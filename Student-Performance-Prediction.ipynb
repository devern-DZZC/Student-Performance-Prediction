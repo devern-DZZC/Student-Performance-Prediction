{
 "cells": [
  {
   "cell_type": "markdown",
   "id": "ac45cc3a-fc8a-43c6-a743-b27484e35206",
   "metadata": {},
   "source": [
    "# Student Performance Prediction Project"
   ]
  },
  {
   "cell_type": "code",
   "execution_count": 3,
   "id": "05e11f88-aa8a-4af6-aad0-5897d9523893",
   "metadata": {},
   "outputs": [],
   "source": [
    "import pandas as pd\n",
    "import numpy as np\n",
    "import matplotlib.pyplot as plt"
   ]
  },
  {
   "cell_type": "code",
   "execution_count": null,
   "id": "d53b7d02-6ee9-4456-aae2-68e4984af842",
   "metadata": {},
   "outputs": [],
   "source": []
  }
 ],
 "metadata": {
  "kernelspec": {
   "display_name": "Python 3 (ipykernel)",
   "language": "python",
   "name": "python3"
  },
  "language_info": {
   "codemirror_mode": {
    "name": "ipython",
    "version": 3
   },
   "file_extension": ".py",
   "mimetype": "text/x-python",
   "name": "python",
   "nbconvert_exporter": "python",
   "pygments_lexer": "ipython3",
   "version": "3.12.4"
  }
 },
 "nbformat": 4,
 "nbformat_minor": 5
}
