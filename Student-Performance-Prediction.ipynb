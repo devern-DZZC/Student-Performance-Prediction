{
 "cells": [
  {
   "cell_type": "markdown",
   "id": "662a006d-08e4-4b75-a374-b8a4ec75ca2a",
   "metadata": {},
   "source": [
    "# Student Performance Prediction Project\n",
    "\n",
    "This notebook uses various Python-based libraries to create different machine learning models to predict the grade of a student based on a number of factors.\n",
    "\n",
    "## Data\n",
    "The data that the model will be learning from and making predictions on was created by Rabie El Kharoua, and the dataset can be found on Kaggle.  \n",
    "[Link to the dataset on Kaggle](https://www.kaggle.com/datasets/rabieelkharoua/students-performance-dataset?resource=download)\n",
    "\n",
    "## Features\n",
    "This dataset contains comprehensive information on 2,392 high school students, detailing their demographics, study habits, parental involvement, extracurricular activities, and academic performance. The target variable, `GradeClass`, classifies students' grades into distinct categories, providing a robust dataset for educational research, predictive modeling, and statistical analysis.  \n",
    "\n",
    "### Dictionary:\n",
    "* **Age**: The age of the students, ranging from 15 to 18 years.  \n",
    "* **Gender**: Gender of the students, where 0 represents Male and 1 represents Female.  \n",
    "* **Ethnicity**: The ethnicity of the students, coded as follows:  \n",
    "  * 0: Caucasian  \n",
    "  * 1: African American  \n",
    "  * 2: Asian  \n",
    "  * 3: Other  \n",
    "* **ParentalEducation**: The education level of the parents, coded as follows:  \n",
    "  * 0: None  \n",
    "  * 1: High School  \n",
    "  * 2: Some College  \n",
    "  * 3: Bachelor's  \n",
    "  * 4: Higher  \n",
    "* **StudyTimeWeekly**: Weekly study time in hours, ranging from 0 to 20.  \n",
    "* **Absences**: Number of absences during the school year, ranging from 0 to 30.  \n",
    "* **Tutoring**: Tutoring status, where 0 indicates No and 1 indicates Yes.  \n",
    "* **ParentalSupport**: The level of parental support, coded as follows:  \n",
    "  * 0: None  \n",
    "  * 1: Low  \n",
    "  * 2: Moderate  \n",
    "  * 3: High  \n",
    "  * 4: Very High  \n",
    "* **Extracurricular**: Participation in extracurricular activities, where 0 indicates No and 1 indicates Yes.  \n",
    "* **Sports**: Participation in sports, where 0 indicates No and 1 indicates Yes.  \n",
    "* **Music**: Participation in music activities, where 0 indicates No and 1 indicates Yes.  \n",
    "* **Volunteering**: Participation in volunteering, where 0 indicates No and 1 indicates Yes.  \n",
    "* **GPA**: Grade Point Average on a scale from 2.0 to 4.0, influenced by study habits, parental involvement, and extracurricular activities.  \n",
    "\n",
    "#### Target Variable: Grade Class\n",
    "* **GradeClass**: Classification of students' grades based on GPA:  \n",
    "  * 0: 'A' (GPA >= 3.5)  \n",
    "  * 1: 'B' (3.0 <= GPA < 3.5)  \n",
    "  * 2: 'C' (2.5 <= GPA < 3.0)  \n",
    "  * 3: 'D' (2.0 <= GPA < 2.5)  \n",
    "  * 4: 'F' (GPA < 2.0)\n",
    "\n",
    "### Machine Learning Models Used:\n",
    "* **RandomForestRegressor()**  \n",
    "* **K-Nearest Neighbors (KNN)**  \n",
    "* **Support Vector Machine (SVM) with Linear Kernel**\n"
   ]
  },
  {
   "cell_type": "markdown",
   "id": "1f56129a-b06c-49be-ba0d-caf844f1fb1e",
   "metadata": {},
   "source": [
    "## Tools Used\n",
    "Pandas, NumPy, Matplotlib and Scikit-Learn libraries used"
   ]
  },
  {
   "cell_type": "code",
   "execution_count": null,
   "id": "c5a9ac93-3ffa-4f2d-8560-f2f3b0fd0091",
   "metadata": {},
   "outputs": [],
   "source": [
    "import pandas as pd\n",
    "import numpy as np\n",
    "import matplotlib.pyplot as plt\n",
    "import seaborn as sns\n",
    "\n",
    "from sklearn.model_selection import train_test_split"
   ]
  },
  {
   "cell_type": "code",
   "execution_count": null,
   "id": "d53b7d02-6ee9-4456-aae2-68e4984af842",
   "metadata": {},
   "outputs": [],
   "source": []
  }
 ],
 "metadata": {
  "kernelspec": {
   "display_name": "Python 3 (ipykernel)",
   "language": "python",
   "name": "python3"
  },
  "language_info": {
   "codemirror_mode": {
    "name": "ipython",
    "version": 3
   },
   "file_extension": ".py",
   "mimetype": "text/x-python",
   "name": "python",
   "nbconvert_exporter": "python",
   "pygments_lexer": "ipython3",
   "version": "3.12.4"
  }
 },
 "nbformat": 4,
 "nbformat_minor": 5
}
